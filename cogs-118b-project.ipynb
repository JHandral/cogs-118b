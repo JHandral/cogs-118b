{
 "cells": [
  {
   "cell_type": "markdown",
   "metadata": {},
   "source": [
    "# cogs-118b-project\n",
    "\n",
    "Use the \"Run\" button to execute the code."
   ]
  },
  {
   "cell_type": "code",
   "execution_count": 1,
   "metadata": {},
   "outputs": [],
   "source": [
    "import numpy as np\n",
    "import pandas as pd\n",
    "import scipy.io as sio\n",
    "import matplotlib\n",
    "import matplotlib.pyplot as plt\n",
    "from numpy.matlib import repmat\n",
    "from sklearn.preprocessing import normalize"
   ]
  },
  {
   "cell_type": "code",
   "execution_count": 2,
   "metadata": {},
   "outputs": [],
   "source": [
    "pd.set_option('display.max_columns', None)\n",
    "pd.set_option('display.max_rows', None)"
   ]
  },
  {
   "cell_type": "code",
   "execution_count": 3,
   "metadata": {},
   "outputs": [
    {
     "ename": "FileNotFoundError",
     "evalue": "[Errno 2] No such file or directory: 'features_30_sec.csv'",
     "output_type": "error",
     "traceback": [
      "\u001b[0;31m---------------------------------------------------------------------------\u001b[0m",
      "\u001b[0;31mFileNotFoundError\u001b[0m                         Traceback (most recent call last)",
      "\u001b[0;32m/tmp/ipykernel_37/252718901.py\u001b[0m in \u001b[0;36m<module>\u001b[0;34m\u001b[0m\n\u001b[0;32m----> 1\u001b[0;31m \u001b[0mmydata\u001b[0m\u001b[0;34m=\u001b[0m \u001b[0mpd\u001b[0m\u001b[0;34m.\u001b[0m\u001b[0mread_csv\u001b[0m\u001b[0;34m(\u001b[0m\u001b[0;34m\"features_30_sec.csv\"\u001b[0m\u001b[0;34m)\u001b[0m\u001b[0;34m\u001b[0m\u001b[0;34m\u001b[0m\u001b[0m\n\u001b[0m\u001b[1;32m      2\u001b[0m \u001b[0;31m# mydata  has 1000 songs with 60 features\u001b[0m\u001b[0;34m\u001b[0m\u001b[0;34m\u001b[0m\u001b[0m\n",
      "\u001b[0;32m/opt/conda/lib/python3.9/site-packages/pandas/util/_decorators.py\u001b[0m in \u001b[0;36mwrapper\u001b[0;34m(*args, **kwargs)\u001b[0m\n\u001b[1;32m    309\u001b[0m                     \u001b[0mstacklevel\u001b[0m\u001b[0;34m=\u001b[0m\u001b[0mstacklevel\u001b[0m\u001b[0;34m,\u001b[0m\u001b[0;34m\u001b[0m\u001b[0;34m\u001b[0m\u001b[0m\n\u001b[1;32m    310\u001b[0m                 )\n\u001b[0;32m--> 311\u001b[0;31m             \u001b[0;32mreturn\u001b[0m \u001b[0mfunc\u001b[0m\u001b[0;34m(\u001b[0m\u001b[0;34m*\u001b[0m\u001b[0margs\u001b[0m\u001b[0;34m,\u001b[0m \u001b[0;34m**\u001b[0m\u001b[0mkwargs\u001b[0m\u001b[0;34m)\u001b[0m\u001b[0;34m\u001b[0m\u001b[0;34m\u001b[0m\u001b[0m\n\u001b[0m\u001b[1;32m    312\u001b[0m \u001b[0;34m\u001b[0m\u001b[0m\n\u001b[1;32m    313\u001b[0m         \u001b[0;32mreturn\u001b[0m \u001b[0mwrapper\u001b[0m\u001b[0;34m\u001b[0m\u001b[0;34m\u001b[0m\u001b[0m\n",
      "\u001b[0;32m/opt/conda/lib/python3.9/site-packages/pandas/io/parsers/readers.py\u001b[0m in \u001b[0;36mread_csv\u001b[0;34m(filepath_or_buffer, sep, delimiter, header, names, index_col, usecols, squeeze, prefix, mangle_dupe_cols, dtype, engine, converters, true_values, false_values, skipinitialspace, skiprows, skipfooter, nrows, na_values, keep_default_na, na_filter, verbose, skip_blank_lines, parse_dates, infer_datetime_format, keep_date_col, date_parser, dayfirst, cache_dates, iterator, chunksize, compression, thousands, decimal, lineterminator, quotechar, quoting, doublequote, escapechar, comment, encoding, encoding_errors, dialect, error_bad_lines, warn_bad_lines, on_bad_lines, delim_whitespace, low_memory, memory_map, float_precision, storage_options)\u001b[0m\n\u001b[1;32m    584\u001b[0m     \u001b[0mkwds\u001b[0m\u001b[0;34m.\u001b[0m\u001b[0mupdate\u001b[0m\u001b[0;34m(\u001b[0m\u001b[0mkwds_defaults\u001b[0m\u001b[0;34m)\u001b[0m\u001b[0;34m\u001b[0m\u001b[0;34m\u001b[0m\u001b[0m\n\u001b[1;32m    585\u001b[0m \u001b[0;34m\u001b[0m\u001b[0m\n\u001b[0;32m--> 586\u001b[0;31m     \u001b[0;32mreturn\u001b[0m \u001b[0m_read\u001b[0m\u001b[0;34m(\u001b[0m\u001b[0mfilepath_or_buffer\u001b[0m\u001b[0;34m,\u001b[0m \u001b[0mkwds\u001b[0m\u001b[0;34m)\u001b[0m\u001b[0;34m\u001b[0m\u001b[0;34m\u001b[0m\u001b[0m\n\u001b[0m\u001b[1;32m    587\u001b[0m \u001b[0;34m\u001b[0m\u001b[0m\n\u001b[1;32m    588\u001b[0m \u001b[0;34m\u001b[0m\u001b[0m\n",
      "\u001b[0;32m/opt/conda/lib/python3.9/site-packages/pandas/io/parsers/readers.py\u001b[0m in \u001b[0;36m_read\u001b[0;34m(filepath_or_buffer, kwds)\u001b[0m\n\u001b[1;32m    480\u001b[0m \u001b[0;34m\u001b[0m\u001b[0m\n\u001b[1;32m    481\u001b[0m     \u001b[0;31m# Create the parser.\u001b[0m\u001b[0;34m\u001b[0m\u001b[0;34m\u001b[0m\u001b[0m\n\u001b[0;32m--> 482\u001b[0;31m     \u001b[0mparser\u001b[0m \u001b[0;34m=\u001b[0m \u001b[0mTextFileReader\u001b[0m\u001b[0;34m(\u001b[0m\u001b[0mfilepath_or_buffer\u001b[0m\u001b[0;34m,\u001b[0m \u001b[0;34m**\u001b[0m\u001b[0mkwds\u001b[0m\u001b[0;34m)\u001b[0m\u001b[0;34m\u001b[0m\u001b[0;34m\u001b[0m\u001b[0m\n\u001b[0m\u001b[1;32m    483\u001b[0m \u001b[0;34m\u001b[0m\u001b[0m\n\u001b[1;32m    484\u001b[0m     \u001b[0;32mif\u001b[0m \u001b[0mchunksize\u001b[0m \u001b[0;32mor\u001b[0m \u001b[0miterator\u001b[0m\u001b[0;34m:\u001b[0m\u001b[0;34m\u001b[0m\u001b[0;34m\u001b[0m\u001b[0m\n",
      "\u001b[0;32m/opt/conda/lib/python3.9/site-packages/pandas/io/parsers/readers.py\u001b[0m in \u001b[0;36m__init__\u001b[0;34m(self, f, engine, **kwds)\u001b[0m\n\u001b[1;32m    809\u001b[0m             \u001b[0mself\u001b[0m\u001b[0;34m.\u001b[0m\u001b[0moptions\u001b[0m\u001b[0;34m[\u001b[0m\u001b[0;34m\"has_index_names\"\u001b[0m\u001b[0;34m]\u001b[0m \u001b[0;34m=\u001b[0m \u001b[0mkwds\u001b[0m\u001b[0;34m[\u001b[0m\u001b[0;34m\"has_index_names\"\u001b[0m\u001b[0;34m]\u001b[0m\u001b[0;34m\u001b[0m\u001b[0;34m\u001b[0m\u001b[0m\n\u001b[1;32m    810\u001b[0m \u001b[0;34m\u001b[0m\u001b[0m\n\u001b[0;32m--> 811\u001b[0;31m         \u001b[0mself\u001b[0m\u001b[0;34m.\u001b[0m\u001b[0m_engine\u001b[0m \u001b[0;34m=\u001b[0m \u001b[0mself\u001b[0m\u001b[0;34m.\u001b[0m\u001b[0m_make_engine\u001b[0m\u001b[0;34m(\u001b[0m\u001b[0mself\u001b[0m\u001b[0;34m.\u001b[0m\u001b[0mengine\u001b[0m\u001b[0;34m)\u001b[0m\u001b[0;34m\u001b[0m\u001b[0;34m\u001b[0m\u001b[0m\n\u001b[0m\u001b[1;32m    812\u001b[0m \u001b[0;34m\u001b[0m\u001b[0m\n\u001b[1;32m    813\u001b[0m     \u001b[0;32mdef\u001b[0m \u001b[0mclose\u001b[0m\u001b[0;34m(\u001b[0m\u001b[0mself\u001b[0m\u001b[0;34m)\u001b[0m\u001b[0;34m:\u001b[0m\u001b[0;34m\u001b[0m\u001b[0;34m\u001b[0m\u001b[0m\n",
      "\u001b[0;32m/opt/conda/lib/python3.9/site-packages/pandas/io/parsers/readers.py\u001b[0m in \u001b[0;36m_make_engine\u001b[0;34m(self, engine)\u001b[0m\n\u001b[1;32m   1038\u001b[0m             )\n\u001b[1;32m   1039\u001b[0m         \u001b[0;31m# error: Too many arguments for \"ParserBase\"\u001b[0m\u001b[0;34m\u001b[0m\u001b[0;34m\u001b[0m\u001b[0m\n\u001b[0;32m-> 1040\u001b[0;31m         \u001b[0;32mreturn\u001b[0m \u001b[0mmapping\u001b[0m\u001b[0;34m[\u001b[0m\u001b[0mengine\u001b[0m\u001b[0;34m]\u001b[0m\u001b[0;34m(\u001b[0m\u001b[0mself\u001b[0m\u001b[0;34m.\u001b[0m\u001b[0mf\u001b[0m\u001b[0;34m,\u001b[0m \u001b[0;34m**\u001b[0m\u001b[0mself\u001b[0m\u001b[0;34m.\u001b[0m\u001b[0moptions\u001b[0m\u001b[0;34m)\u001b[0m  \u001b[0;31m# type: ignore[call-arg]\u001b[0m\u001b[0;34m\u001b[0m\u001b[0;34m\u001b[0m\u001b[0m\n\u001b[0m\u001b[1;32m   1041\u001b[0m \u001b[0;34m\u001b[0m\u001b[0m\n\u001b[1;32m   1042\u001b[0m     \u001b[0;32mdef\u001b[0m \u001b[0m_failover_to_python\u001b[0m\u001b[0;34m(\u001b[0m\u001b[0mself\u001b[0m\u001b[0;34m)\u001b[0m\u001b[0;34m:\u001b[0m\u001b[0;34m\u001b[0m\u001b[0;34m\u001b[0m\u001b[0m\n",
      "\u001b[0;32m/opt/conda/lib/python3.9/site-packages/pandas/io/parsers/c_parser_wrapper.py\u001b[0m in \u001b[0;36m__init__\u001b[0;34m(self, src, **kwds)\u001b[0m\n\u001b[1;32m     49\u001b[0m \u001b[0;34m\u001b[0m\u001b[0m\n\u001b[1;32m     50\u001b[0m         \u001b[0;31m# open handles\u001b[0m\u001b[0;34m\u001b[0m\u001b[0;34m\u001b[0m\u001b[0m\n\u001b[0;32m---> 51\u001b[0;31m         \u001b[0mself\u001b[0m\u001b[0;34m.\u001b[0m\u001b[0m_open_handles\u001b[0m\u001b[0;34m(\u001b[0m\u001b[0msrc\u001b[0m\u001b[0;34m,\u001b[0m \u001b[0mkwds\u001b[0m\u001b[0;34m)\u001b[0m\u001b[0;34m\u001b[0m\u001b[0;34m\u001b[0m\u001b[0m\n\u001b[0m\u001b[1;32m     52\u001b[0m         \u001b[0;32massert\u001b[0m \u001b[0mself\u001b[0m\u001b[0;34m.\u001b[0m\u001b[0mhandles\u001b[0m \u001b[0;32mis\u001b[0m \u001b[0;32mnot\u001b[0m \u001b[0;32mNone\u001b[0m\u001b[0;34m\u001b[0m\u001b[0;34m\u001b[0m\u001b[0m\n\u001b[1;32m     53\u001b[0m \u001b[0;34m\u001b[0m\u001b[0m\n",
      "\u001b[0;32m/opt/conda/lib/python3.9/site-packages/pandas/io/parsers/base_parser.py\u001b[0m in \u001b[0;36m_open_handles\u001b[0;34m(self, src, kwds)\u001b[0m\n\u001b[1;32m    220\u001b[0m         \u001b[0mLet\u001b[0m \u001b[0mthe\u001b[0m \u001b[0mreaders\u001b[0m \u001b[0mopen\u001b[0m \u001b[0mIOHandles\u001b[0m \u001b[0mafter\u001b[0m \u001b[0mthey\u001b[0m \u001b[0mare\u001b[0m \u001b[0mdone\u001b[0m \u001b[0;32mwith\u001b[0m \u001b[0mtheir\u001b[0m \u001b[0mpotential\u001b[0m \u001b[0mraises\u001b[0m\u001b[0;34m.\u001b[0m\u001b[0;34m\u001b[0m\u001b[0;34m\u001b[0m\u001b[0m\n\u001b[1;32m    221\u001b[0m         \"\"\"\n\u001b[0;32m--> 222\u001b[0;31m         self.handles = get_handle(\n\u001b[0m\u001b[1;32m    223\u001b[0m             \u001b[0msrc\u001b[0m\u001b[0;34m,\u001b[0m\u001b[0;34m\u001b[0m\u001b[0;34m\u001b[0m\u001b[0m\n\u001b[1;32m    224\u001b[0m             \u001b[0;34m\"r\"\u001b[0m\u001b[0;34m,\u001b[0m\u001b[0;34m\u001b[0m\u001b[0;34m\u001b[0m\u001b[0m\n",
      "\u001b[0;32m/opt/conda/lib/python3.9/site-packages/pandas/io/common.py\u001b[0m in \u001b[0;36mget_handle\u001b[0;34m(path_or_buf, mode, encoding, compression, memory_map, is_text, errors, storage_options)\u001b[0m\n\u001b[1;32m    700\u001b[0m         \u001b[0;32mif\u001b[0m \u001b[0mioargs\u001b[0m\u001b[0;34m.\u001b[0m\u001b[0mencoding\u001b[0m \u001b[0;32mand\u001b[0m \u001b[0;34m\"b\"\u001b[0m \u001b[0;32mnot\u001b[0m \u001b[0;32min\u001b[0m \u001b[0mioargs\u001b[0m\u001b[0;34m.\u001b[0m\u001b[0mmode\u001b[0m\u001b[0;34m:\u001b[0m\u001b[0;34m\u001b[0m\u001b[0;34m\u001b[0m\u001b[0m\n\u001b[1;32m    701\u001b[0m             \u001b[0;31m# Encoding\u001b[0m\u001b[0;34m\u001b[0m\u001b[0;34m\u001b[0m\u001b[0m\n\u001b[0;32m--> 702\u001b[0;31m             handle = open(\n\u001b[0m\u001b[1;32m    703\u001b[0m                 \u001b[0mhandle\u001b[0m\u001b[0;34m,\u001b[0m\u001b[0;34m\u001b[0m\u001b[0;34m\u001b[0m\u001b[0m\n\u001b[1;32m    704\u001b[0m                 \u001b[0mioargs\u001b[0m\u001b[0;34m.\u001b[0m\u001b[0mmode\u001b[0m\u001b[0;34m,\u001b[0m\u001b[0;34m\u001b[0m\u001b[0;34m\u001b[0m\u001b[0m\n",
      "\u001b[0;31mFileNotFoundError\u001b[0m: [Errno 2] No such file or directory: 'features_30_sec.csv'"
     ]
    }
   ],
   "source": [
    "mydata= pd.read_csv(\"features_30_sec.csv\")\n",
    "# mydata  has 1000 songs with 60 features"
   ]
  },
  {
   "cell_type": "code",
   "execution_count": null,
   "metadata": {
    "scrolled": true
   },
   "outputs": [],
   "source": [
    "mydata"
   ]
  },
  {
   "cell_type": "markdown",
   "metadata": {},
   "source": [
    "Using PCA for dimensionality reduction."
   ]
  },
  {
   "cell_type": "code",
   "execution_count": 4,
   "metadata": {},
   "outputs": [
    {
     "ename": "NameError",
     "evalue": "name 'mydata' is not defined",
     "output_type": "error",
     "traceback": [
      "\u001b[0;31m---------------------------------------------------------------------------\u001b[0m",
      "\u001b[0;31mNameError\u001b[0m                                 Traceback (most recent call last)",
      "\u001b[0;32m/tmp/ipykernel_37/3437750664.py\u001b[0m in \u001b[0;36m<module>\u001b[0;34m\u001b[0m\n\u001b[1;32m      1\u001b[0m \u001b[0;31m# drop string variables for now\u001b[0m\u001b[0;34m\u001b[0m\u001b[0;34m\u001b[0m\u001b[0m\n\u001b[0;32m----> 2\u001b[0;31m \u001b[0mnumbers\u001b[0m \u001b[0;34m=\u001b[0m \u001b[0mmydata\u001b[0m\u001b[0;34m.\u001b[0m\u001b[0mdrop\u001b[0m\u001b[0;34m(\u001b[0m\u001b[0;34m[\u001b[0m\u001b[0;34m\"length\"\u001b[0m\u001b[0;34m,\u001b[0m \u001b[0;34m'filename'\u001b[0m\u001b[0;34m,\u001b[0m\u001b[0;34m'label'\u001b[0m\u001b[0;34m]\u001b[0m\u001b[0;34m,\u001b[0m \u001b[0maxis\u001b[0m \u001b[0;34m=\u001b[0m \u001b[0;36m1\u001b[0m\u001b[0;34m)\u001b[0m\u001b[0;34m\u001b[0m\u001b[0;34m\u001b[0m\u001b[0m\n\u001b[0m\u001b[1;32m      3\u001b[0m \u001b[0mnumbers\u001b[0m\u001b[0;34m.\u001b[0m\u001b[0mshape\u001b[0m\u001b[0;34m\u001b[0m\u001b[0;34m\u001b[0m\u001b[0m\n",
      "\u001b[0;31mNameError\u001b[0m: name 'mydata' is not defined"
     ]
    }
   ],
   "source": [
    "# drop string variables for now\n",
    "numbers = mydata.drop([\"length\", 'filename','label'], axis = 1)\n",
    "numbers.shape"
   ]
  },
  {
   "cell_type": "code",
   "execution_count": 6,
   "metadata": {
    "scrolled": true
   },
   "outputs": [
    {
     "data": {
      "text/plain": [
       "(57,)"
      ]
     },
     "execution_count": 6,
     "metadata": {},
     "output_type": "execute_result"
    }
   ],
   "source": [
    "data_mean = np.mean(numbers, axis = 0)\n",
    "data_mean.shape"
   ]
  },
  {
   "cell_type": "code",
   "execution_count": 7,
   "metadata": {},
   "outputs": [
    {
     "data": {
      "text/plain": [
       "(1000, 57)"
      ]
     },
     "execution_count": 7,
     "metadata": {},
     "output_type": "execute_result"
    }
   ],
   "source": [
    "# zero mean the data\n",
    "A = numbers - data_mean\n",
    "A.shape"
   ]
  },
  {
   "cell_type": "code",
   "execution_count": 8,
   "metadata": {},
   "outputs": [
    {
     "data": {
      "text/plain": [
       "(57, 57)"
      ]
     },
     "execution_count": 8,
     "metadata": {},
     "output_type": "execute_result"
    }
   ],
   "source": [
    "# compute the covariance matrix\n",
    "B = np.cov(A.T)\n",
    "B.shape"
   ]
  },
  {
   "cell_type": "code",
   "execution_count": 9,
   "metadata": {},
   "outputs": [
    {
     "name": "stdout",
     "output_type": "stream",
     "text": [
      "[[ 7.17706570e-09  1.17183317e-07 -5.34878759e-08 ... -5.04053614e-03\n",
      "   1.93234503e-03 -3.46628825e-04]\n",
      " [ 2.01895112e-09 -8.64502562e-10  2.43596055e-09 ... -4.54220038e-02\n",
      "   2.16263218e-03  1.76220107e-03]\n",
      " [ 9.39962837e-09  7.88048716e-08 -1.22115596e-07 ...  1.08867237e-01\n",
      "   1.90287231e-02 -4.32080870e-03]\n",
      " ...\n",
      " [ 1.16011638e-06  2.61549788e-06 -1.69642032e-05 ...  1.95739895e-07\n",
      "   8.25749298e-07 -3.99489592e-07]\n",
      " [-3.63827848e-07  2.90761838e-06 -6.23829463e-07 ...  2.37339634e-05\n",
      "  -2.65370725e-05 -1.52333448e-05]\n",
      " [ 5.93021646e-07 -2.92317896e-06  1.61415171e-05 ... -6.01070755e-06\n",
      "   5.64094173e-07  3.33391682e-08]]\n"
     ]
    }
   ],
   "source": [
    "# compute eigenvetors\n",
    "eigval, Vold = np.linalg.eig(B)\n",
    "indices = np.argsort(eigval)\n",
    "indices = np.flip(indices)\n",
    "Vold2 = Vold[indices]\n",
    "# normalize eigenvectors\n",
    "V_unit = normalize(Vold2, norm='l2', axis=0)\n",
    "print(V_unit)"
   ]
  },
  {
   "cell_type": "code",
   "execution_count": 10,
   "metadata": {
    "scrolled": true
   },
   "outputs": [
    {
     "name": "stdout",
     "output_type": "stream",
     "text": [
      "(57, 1000)\n"
     ]
    },
    {
     "data": {
      "text/plain": [
       "array([[ 3.88215110e+02, -4.49214347e+02,  4.37441553e+02, ...,\n",
       "         4.27164527e+02,  2.09526634e+02,  4.02538416e+01],\n",
       "       [-9.61322809e+00,  2.20662682e+01, -1.85135473e+01, ...,\n",
       "        -2.41516958e+01, -7.09154503e+00, -5.31062108e+00],\n",
       "       [ 2.12646661e+02, -2.53092119e+02,  2.23361842e+02, ...,\n",
       "         2.15012921e+02,  1.09189820e+02,  1.73266470e+01],\n",
       "       [-1.88591892e+01, -2.46476356e+01, -1.86723477e+01, ...,\n",
       "        -3.18696520e+01, -3.18156372e+01,  1.30530183e+01],\n",
       "       [-1.89396293e+05,  2.48049669e+05, -2.14930654e+05, ...,\n",
       "        -2.13263546e+05, -9.98835557e+04, -8.87384757e+03]])"
      ]
     },
     "execution_count": 10,
     "metadata": {},
     "output_type": "execute_result"
    }
   ],
   "source": [
    "# compute principal components\n",
    "c = Vold.dot(A.T)\n",
    "print(c.shape)\n",
    "c[:5]"
   ]
  },
  {
   "cell_type": "code",
   "execution_count": 11,
   "metadata": {},
   "outputs": [
    {
     "data": {
      "text/plain": [
       "(57, 10)"
      ]
     },
     "execution_count": 11,
     "metadata": {},
     "output_type": "execute_result"
    }
   ],
   "source": [
    "# Reconstruct pattern using 10 principal components\n",
    "c_reduced = c[:10]\n",
    "v_reduced = Vold[:,:10]\n",
    "v_reduced.shape"
   ]
  },
  {
   "cell_type": "code",
   "execution_count": 12,
   "metadata": {},
   "outputs": [],
   "source": [
    "# # Just double checking that c has preserved the order of the original data\n",
    "# c1 = Vold.dot(A[:1].T)\n",
    "# z1 = np.dot(v_reduced,c1[:10])\n",
    "# c1[:5]"
   ]
  },
  {
   "cell_type": "code",
   "execution_count": 13,
   "metadata": {},
   "outputs": [
    {
     "name": "stdout",
     "output_type": "stream",
     "text": [
      "[[ 7.75922883e+00 -9.23666842e+00  8.68935781e+00 ...  8.48764685e+00\n",
      "   4.18936730e+00  4.25198960e-01]\n",
      " [-3.52626591e+00  3.71167453e+00 -3.89989867e+00 ... -3.74665826e+00\n",
      "  -1.97018469e+00 -3.63745183e-01]\n",
      " [-9.97579995e+00  9.24279961e+00 -1.08822455e+01 ... -1.02711551e+01\n",
      "  -5.71518353e+00 -1.18360825e+00]\n",
      " [-9.85656130e-01  9.97768693e-01 -1.08554788e+00 ... -1.03724425e+00\n",
      "  -5.55436484e-01 -1.08986132e-01]\n",
      " [ 1.27123671e+05 -1.53604334e+05  1.42962640e+05 ...  1.40227556e+05\n",
      "   6.87983974e+04  1.06195807e+04]]\n"
     ]
    },
    {
     "data": {
      "text/plain": [
       "(57, 1000)"
      ]
     },
     "execution_count": 13,
     "metadata": {},
     "output_type": "execute_result"
    }
   ],
   "source": [
    "z = np.dot(v_reduced,c_reduced)\n",
    "print(z[:5])\n",
    "z.shape[:5]"
   ]
  },
  {
   "cell_type": "code",
   "execution_count": 14,
   "metadata": {},
   "outputs": [],
   "source": [
    "z1 = np.dot(v_reduced,c_reduced)"
   ]
  },
  {
   "cell_type": "code",
   "execution_count": 15,
   "metadata": {},
   "outputs": [],
   "source": [
    "# Add back the mean\n",
    "recon_data = pd.DataFrame(z).T + data_mean.array"
   ]
  },
  {
   "cell_type": "code",
   "execution_count": 16,
   "metadata": {},
   "outputs": [
    {
     "name": "stdout",
     "output_type": "stream",
     "text": [
      "(1000, 57)\n"
     ]
    },
    {
     "data": {
      "text/html": [
       "<div>\n",
       "<style scoped>\n",
       "    .dataframe tbody tr th:only-of-type {\n",
       "        vertical-align: middle;\n",
       "    }\n",
       "\n",
       "    .dataframe tbody tr th {\n",
       "        vertical-align: top;\n",
       "    }\n",
       "\n",
       "    .dataframe thead th {\n",
       "        text-align: right;\n",
       "    }\n",
       "</style>\n",
       "<table border=\"1\" class=\"dataframe\">\n",
       "  <thead>\n",
       "    <tr style=\"text-align: right;\">\n",
       "      <th></th>\n",
       "      <th>0</th>\n",
       "      <th>1</th>\n",
       "      <th>2</th>\n",
       "      <th>3</th>\n",
       "      <th>4</th>\n",
       "      <th>5</th>\n",
       "      <th>6</th>\n",
       "      <th>7</th>\n",
       "      <th>8</th>\n",
       "      <th>9</th>\n",
       "      <th>10</th>\n",
       "      <th>11</th>\n",
       "      <th>12</th>\n",
       "      <th>13</th>\n",
       "      <th>14</th>\n",
       "      <th>15</th>\n",
       "      <th>16</th>\n",
       "      <th>17</th>\n",
       "      <th>18</th>\n",
       "      <th>19</th>\n",
       "      <th>20</th>\n",
       "      <th>21</th>\n",
       "      <th>22</th>\n",
       "      <th>23</th>\n",
       "      <th>24</th>\n",
       "      <th>25</th>\n",
       "      <th>26</th>\n",
       "      <th>27</th>\n",
       "      <th>28</th>\n",
       "      <th>29</th>\n",
       "      <th>30</th>\n",
       "      <th>31</th>\n",
       "      <th>32</th>\n",
       "      <th>33</th>\n",
       "      <th>34</th>\n",
       "      <th>35</th>\n",
       "      <th>36</th>\n",
       "      <th>37</th>\n",
       "      <th>38</th>\n",
       "      <th>39</th>\n",
       "      <th>40</th>\n",
       "      <th>41</th>\n",
       "      <th>42</th>\n",
       "      <th>43</th>\n",
       "      <th>44</th>\n",
       "      <th>45</th>\n",
       "      <th>46</th>\n",
       "      <th>47</th>\n",
       "      <th>48</th>\n",
       "      <th>49</th>\n",
       "      <th>50</th>\n",
       "      <th>51</th>\n",
       "      <th>52</th>\n",
       "      <th>53</th>\n",
       "      <th>54</th>\n",
       "      <th>55</th>\n",
       "      <th>56</th>\n",
       "    </tr>\n",
       "  </thead>\n",
       "  <tbody>\n",
       "    <tr>\n",
       "      <th>0</th>\n",
       "      <td>8.137911</td>\n",
       "      <td>-3.439926</td>\n",
       "      <td>-9.844870</td>\n",
       "      <td>-0.982605</td>\n",
       "      <td>129325.451880</td>\n",
       "      <td>468794.839289</td>\n",
       "      <td>44652.208406</td>\n",
       "      <td>137421.402941</td>\n",
       "      <td>160405.194545</td>\n",
       "      <td>1.844795e+06</td>\n",
       "      <td>13.113377</td>\n",
       "      <td>-0.029284</td>\n",
       "      <td>0.013596</td>\n",
       "      <td>-2.004518</td>\n",
       "      <td>0.037270</td>\n",
       "      <td>-0.865487</td>\n",
       "      <td>1920.310553</td>\n",
       "      <td>-215.207450</td>\n",
       "      <td>60246.686001</td>\n",
       "      <td>-3405.333268</td>\n",
       "      <td>167574.213475</td>\n",
       "      <td>-1015.151509</td>\n",
       "      <td>-5255.170122</td>\n",
       "      <td>-1556.576610</td>\n",
       "      <td>-63381.342145</td>\n",
       "      <td>-304.035142</td>\n",
       "      <td>-65577.411898</td>\n",
       "      <td>-1925.944342</td>\n",
       "      <td>-36633.517696</td>\n",
       "      <td>220.603237</td>\n",
       "      <td>-41327.626916</td>\n",
       "      <td>-1579.719100</td>\n",
       "      <td>-24054.260399</td>\n",
       "      <td>511.251095</td>\n",
       "      <td>-21316.219182</td>\n",
       "      <td>-1078.858049</td>\n",
       "      <td>-19511.299856</td>\n",
       "      <td>740.093197</td>\n",
       "      <td>-17470.158013</td>\n",
       "      <td>-495.582597</td>\n",
       "      <td>-13169.365159</td>\n",
       "      <td>471.542090</td>\n",
       "      <td>-11151.061323</td>\n",
       "      <td>40.835204</td>\n",
       "      <td>-8478.167652</td>\n",
       "      <td>314.566219</td>\n",
       "      <td>-7738.755372</td>\n",
       "      <td>313.502891</td>\n",
       "      <td>-8241.194240</td>\n",
       "      <td>391.477523</td>\n",
       "      <td>-8699.072115</td>\n",
       "      <td>-59.574453</td>\n",
       "      <td>-7196.618176</td>\n",
       "      <td>-147.476627</td>\n",
       "      <td>-6784.269069</td>\n",
       "      <td>410.619343</td>\n",
       "      <td>-5171.291110</td>\n",
       "    </tr>\n",
       "    <tr>\n",
       "      <th>1</th>\n",
       "      <td>-8.857987</td>\n",
       "      <td>3.798014</td>\n",
       "      <td>9.373729</td>\n",
       "      <td>1.000820</td>\n",
       "      <td>-151402.553116</td>\n",
       "      <td>470857.427018</td>\n",
       "      <td>-52013.947458</td>\n",
       "      <td>136585.459871</td>\n",
       "      <td>-201694.484228</td>\n",
       "      <td>1.843815e+06</td>\n",
       "      <td>-14.864786</td>\n",
       "      <td>0.017338</td>\n",
       "      <td>-0.018588</td>\n",
       "      <td>2.030215</td>\n",
       "      <td>-0.037665</td>\n",
       "      <td>0.787568</td>\n",
       "      <td>-1911.899228</td>\n",
       "      <td>-2854.183068</td>\n",
       "      <td>-70452.351372</td>\n",
       "      <td>4691.377963</td>\n",
       "      <td>-182967.121524</td>\n",
       "      <td>1459.086222</td>\n",
       "      <td>13554.780584</td>\n",
       "      <td>1686.241241</td>\n",
       "      <td>61959.140904</td>\n",
       "      <td>606.900163</td>\n",
       "      <td>64972.685481</td>\n",
       "      <td>1963.065458</td>\n",
       "      <td>36043.571376</td>\n",
       "      <td>-40.750511</td>\n",
       "      <td>41073.358323</td>\n",
       "      <td>1485.934518</td>\n",
       "      <td>23746.357295</td>\n",
       "      <td>-494.609312</td>\n",
       "      <td>21033.304699</td>\n",
       "      <td>998.438166</td>\n",
       "      <td>19263.555610</td>\n",
       "      <td>-681.462651</td>\n",
       "      <td>17126.690213</td>\n",
       "      <td>428.711999</td>\n",
       "      <td>12978.765220</td>\n",
       "      <td>-425.635580</td>\n",
       "      <td>10857.861279</td>\n",
       "      <td>-96.067941</td>\n",
       "      <td>8222.024792</td>\n",
       "      <td>-294.496389</td>\n",
       "      <td>7519.591535</td>\n",
       "      <td>-370.567845</td>\n",
       "      <td>8295.960012</td>\n",
       "      <td>-373.181133</td>\n",
       "      <td>8759.189743</td>\n",
       "      <td>-4.680732</td>\n",
       "      <td>7113.626110</td>\n",
       "      <td>182.658429</td>\n",
       "      <td>6726.123001</td>\n",
       "      <td>-463.827748</td>\n",
       "      <td>5082.746101</td>\n",
       "    </tr>\n",
       "    <tr>\n",
       "      <th>2</th>\n",
       "      <td>9.068040</td>\n",
       "      <td>-3.813559</td>\n",
       "      <td>-10.751316</td>\n",
       "      <td>-1.082496</td>\n",
       "      <td>145164.421020</td>\n",
       "      <td>468667.523994</td>\n",
       "      <td>50082.069377</td>\n",
       "      <td>137456.765570</td>\n",
       "      <td>181731.778406</td>\n",
       "      <td>1.844855e+06</td>\n",
       "      <td>14.660984</td>\n",
       "      <td>-0.030140</td>\n",
       "      <td>0.015534</td>\n",
       "      <td>-2.206948</td>\n",
       "      <td>0.041109</td>\n",
       "      <td>-0.940897</td>\n",
       "      <td>2130.838141</td>\n",
       "      <td>115.012782</td>\n",
       "      <td>67882.075744</td>\n",
       "      <td>-3884.603318</td>\n",
       "      <td>186910.847762</td>\n",
       "      <td>-1188.540813</td>\n",
       "      <td>-6913.075920</td>\n",
       "      <td>-1720.607215</td>\n",
       "      <td>-69367.420796</td>\n",
       "      <td>-381.368789</td>\n",
       "      <td>-71894.750705</td>\n",
       "      <td>-2120.734159</td>\n",
       "      <td>-40133.456560</td>\n",
       "      <td>211.723820</td>\n",
       "      <td>-45334.648638</td>\n",
       "      <td>-1722.680197</td>\n",
       "      <td>-26357.920026</td>\n",
       "      <td>555.162940</td>\n",
       "      <td>-23347.033489</td>\n",
       "      <td>-1174.659122</td>\n",
       "      <td>-21372.017396</td>\n",
       "      <td>802.038593</td>\n",
       "      <td>-19113.663133</td>\n",
       "      <td>-535.746446</td>\n",
       "      <td>-14411.538269</td>\n",
       "      <td>510.103976</td>\n",
       "      <td>-12178.523546</td>\n",
       "      <td>52.150810</td>\n",
       "      <td>-9249.076913</td>\n",
       "      <td>342.187194</td>\n",
       "      <td>-8442.971715</td>\n",
       "      <td>352.171231</td>\n",
       "      <td>-9037.578321</td>\n",
       "      <td>426.311560</td>\n",
       "      <td>-9541.489388</td>\n",
       "      <td>-56.864961</td>\n",
       "      <td>-7870.552189</td>\n",
       "      <td>-167.826817</td>\n",
       "      <td>-7419.859168</td>\n",
       "      <td>457.459231</td>\n",
       "      <td>-5635.792278</td>\n",
       "    </tr>\n",
       "    <tr>\n",
       "      <th>3</th>\n",
       "      <td>4.487727</td>\n",
       "      <td>-1.411869</td>\n",
       "      <td>-4.182453</td>\n",
       "      <td>-0.409442</td>\n",
       "      <td>55273.830227</td>\n",
       "      <td>469281.026354</td>\n",
       "      <td>29539.510332</td>\n",
       "      <td>137299.122274</td>\n",
       "      <td>79691.538160</td>\n",
       "      <td>1.844516e+06</td>\n",
       "      <td>4.819913</td>\n",
       "      <td>-0.021660</td>\n",
       "      <td>0.003848</td>\n",
       "      <td>-0.790743</td>\n",
       "      <td>0.009990</td>\n",
       "      <td>-0.405142</td>\n",
       "      <td>726.038038</td>\n",
       "      <td>-533.713021</td>\n",
       "      <td>32357.054953</td>\n",
       "      <td>-1352.335702</td>\n",
       "      <td>40635.173637</td>\n",
       "      <td>392.407315</td>\n",
       "      <td>7468.788223</td>\n",
       "      <td>-719.234318</td>\n",
       "      <td>-32893.505191</td>\n",
       "      <td>361.129948</td>\n",
       "      <td>-33463.340949</td>\n",
       "      <td>-800.067030</td>\n",
       "      <td>-18457.987430</td>\n",
       "      <td>487.435980</td>\n",
       "      <td>-20576.314718</td>\n",
       "      <td>-762.077324</td>\n",
       "      <td>-12264.262216</td>\n",
       "      <td>400.349135</td>\n",
       "      <td>-11215.352007</td>\n",
       "      <td>-511.131754</td>\n",
       "      <td>-10237.262063</td>\n",
       "      <td>495.420900</td>\n",
       "      <td>-9510.880312</td>\n",
       "      <td>-242.531750</td>\n",
       "      <td>-7305.050108</td>\n",
       "      <td>305.772652</td>\n",
       "      <td>-6506.205119</td>\n",
       "      <td>-2.682395</td>\n",
       "      <td>-5138.216986</td>\n",
       "      <td>170.490457</td>\n",
       "      <td>-4717.110956</td>\n",
       "      <td>111.897481</td>\n",
       "      <td>-4520.187015</td>\n",
       "      <td>232.424999</td>\n",
       "      <td>-4713.053553</td>\n",
       "      <td>-68.601441</td>\n",
       "      <td>-4139.204076</td>\n",
       "      <td>-11.867537</td>\n",
       "      <td>-3953.306124</td>\n",
       "      <td>186.031645</td>\n",
       "      <td>-3535.286645</td>\n",
       "    </tr>\n",
       "    <tr>\n",
       "      <th>4</th>\n",
       "      <td>1.682372</td>\n",
       "      <td>-0.957715</td>\n",
       "      <td>-3.176852</td>\n",
       "      <td>-0.306821</td>\n",
       "      <td>34083.692532</td>\n",
       "      <td>469515.706527</td>\n",
       "      <td>4322.920669</td>\n",
       "      <td>137095.157471</td>\n",
       "      <td>29817.899870</td>\n",
       "      <td>1.844467e+06</td>\n",
       "      <td>4.177173</td>\n",
       "      <td>-0.004388</td>\n",
       "      <td>0.003970</td>\n",
       "      <td>-0.661711</td>\n",
       "      <td>0.015979</td>\n",
       "      <td>-0.264544</td>\n",
       "      <td>733.360620</td>\n",
       "      <td>-796.849977</td>\n",
       "      <td>12021.021650</td>\n",
       "      <td>-671.265353</td>\n",
       "      <td>71943.739413</td>\n",
       "      <td>-826.493262</td>\n",
       "      <td>-6359.316798</td>\n",
       "      <td>-382.230432</td>\n",
       "      <td>-15512.801941</td>\n",
       "      <td>-383.389285</td>\n",
       "      <td>-16242.068140</td>\n",
       "      <td>-598.808450</td>\n",
       "      <td>-9327.674288</td>\n",
       "      <td>-185.076594</td>\n",
       "      <td>-10596.322962</td>\n",
       "      <td>-449.314665</td>\n",
       "      <td>-5982.462547</td>\n",
       "      <td>17.792023</td>\n",
       "      <td>-5025.544810</td>\n",
       "      <td>-319.235737</td>\n",
       "      <td>-4618.457270</td>\n",
       "      <td>105.451988</td>\n",
       "      <td>-3901.941872</td>\n",
       "      <td>-149.945862</td>\n",
       "      <td>-2806.171397</td>\n",
       "      <td>77.387334</td>\n",
       "      <td>-2161.351920</td>\n",
       "      <td>11.298016</td>\n",
       "      <td>-1496.478529</td>\n",
       "      <td>74.268668</td>\n",
       "      <td>-1337.964996</td>\n",
       "      <td>96.850255</td>\n",
       "      <td>-1730.641962</td>\n",
       "      <td>74.645471</td>\n",
       "      <td>-1872.732857</td>\n",
       "      <td>-5.366821</td>\n",
       "      <td>-1397.348735</td>\n",
       "      <td>-75.857540</td>\n",
       "      <td>-1267.155601</td>\n",
       "      <td>101.541071</td>\n",
       "      <td>-558.692593</td>\n",
       "    </tr>\n",
       "  </tbody>\n",
       "</table>\n",
       "</div>"
      ],
      "text/plain": [
       "         0         1          2         3              4              5   \\\n",
       "0  8.137911 -3.439926  -9.844870 -0.982605  129325.451880  468794.839289   \n",
       "1 -8.857987  3.798014   9.373729  1.000820 -151402.553116  470857.427018   \n",
       "2  9.068040 -3.813559 -10.751316 -1.082496  145164.421020  468667.523994   \n",
       "3  4.487727 -1.411869  -4.182453 -0.409442   55273.830227  469281.026354   \n",
       "4  1.682372 -0.957715  -3.176852 -0.306821   34083.692532  469515.706527   \n",
       "\n",
       "             6              7              8             9          10  \\\n",
       "0  44652.208406  137421.402941  160405.194545  1.844795e+06  13.113377   \n",
       "1 -52013.947458  136585.459871 -201694.484228  1.843815e+06 -14.864786   \n",
       "2  50082.069377  137456.765570  181731.778406  1.844855e+06  14.660984   \n",
       "3  29539.510332  137299.122274   79691.538160  1.844516e+06   4.819913   \n",
       "4   4322.920669  137095.157471   29817.899870  1.844467e+06   4.177173   \n",
       "\n",
       "         11        12        13        14        15           16           17  \\\n",
       "0 -0.029284  0.013596 -2.004518  0.037270 -0.865487  1920.310553  -215.207450   \n",
       "1  0.017338 -0.018588  2.030215 -0.037665  0.787568 -1911.899228 -2854.183068   \n",
       "2 -0.030140  0.015534 -2.206948  0.041109 -0.940897  2130.838141   115.012782   \n",
       "3 -0.021660  0.003848 -0.790743  0.009990 -0.405142   726.038038  -533.713021   \n",
       "4 -0.004388  0.003970 -0.661711  0.015979 -0.264544   733.360620  -796.849977   \n",
       "\n",
       "             18           19             20           21            22  \\\n",
       "0  60246.686001 -3405.333268  167574.213475 -1015.151509  -5255.170122   \n",
       "1 -70452.351372  4691.377963 -182967.121524  1459.086222  13554.780584   \n",
       "2  67882.075744 -3884.603318  186910.847762 -1188.540813  -6913.075920   \n",
       "3  32357.054953 -1352.335702   40635.173637   392.407315   7468.788223   \n",
       "4  12021.021650  -671.265353   71943.739413  -826.493262  -6359.316798   \n",
       "\n",
       "            23            24          25            26           27  \\\n",
       "0 -1556.576610 -63381.342145 -304.035142 -65577.411898 -1925.944342   \n",
       "1  1686.241241  61959.140904  606.900163  64972.685481  1963.065458   \n",
       "2 -1720.607215 -69367.420796 -381.368789 -71894.750705 -2120.734159   \n",
       "3  -719.234318 -32893.505191  361.129948 -33463.340949  -800.067030   \n",
       "4  -382.230432 -15512.801941 -383.389285 -16242.068140  -598.808450   \n",
       "\n",
       "             28          29            30           31            32  \\\n",
       "0 -36633.517696  220.603237 -41327.626916 -1579.719100 -24054.260399   \n",
       "1  36043.571376  -40.750511  41073.358323  1485.934518  23746.357295   \n",
       "2 -40133.456560  211.723820 -45334.648638 -1722.680197 -26357.920026   \n",
       "3 -18457.987430  487.435980 -20576.314718  -762.077324 -12264.262216   \n",
       "4  -9327.674288 -185.076594 -10596.322962  -449.314665  -5982.462547   \n",
       "\n",
       "           33            34           35            36          37  \\\n",
       "0  511.251095 -21316.219182 -1078.858049 -19511.299856  740.093197   \n",
       "1 -494.609312  21033.304699   998.438166  19263.555610 -681.462651   \n",
       "2  555.162940 -23347.033489 -1174.659122 -21372.017396  802.038593   \n",
       "3  400.349135 -11215.352007  -511.131754 -10237.262063  495.420900   \n",
       "4   17.792023  -5025.544810  -319.235737  -4618.457270  105.451988   \n",
       "\n",
       "             38          39            40          41            42  \\\n",
       "0 -17470.158013 -495.582597 -13169.365159  471.542090 -11151.061323   \n",
       "1  17126.690213  428.711999  12978.765220 -425.635580  10857.861279   \n",
       "2 -19113.663133 -535.746446 -14411.538269  510.103976 -12178.523546   \n",
       "3  -9510.880312 -242.531750  -7305.050108  305.772652  -6506.205119   \n",
       "4  -3901.941872 -149.945862  -2806.171397   77.387334  -2161.351920   \n",
       "\n",
       "          43           44          45           46          47           48  \\\n",
       "0  40.835204 -8478.167652  314.566219 -7738.755372  313.502891 -8241.194240   \n",
       "1 -96.067941  8222.024792 -294.496389  7519.591535 -370.567845  8295.960012   \n",
       "2  52.150810 -9249.076913  342.187194 -8442.971715  352.171231 -9037.578321   \n",
       "3  -2.682395 -5138.216986  170.490457 -4717.110956  111.897481 -4520.187015   \n",
       "4  11.298016 -1496.478529   74.268668 -1337.964996   96.850255 -1730.641962   \n",
       "\n",
       "           49           50         51           52          53           54  \\\n",
       "0  391.477523 -8699.072115 -59.574453 -7196.618176 -147.476627 -6784.269069   \n",
       "1 -373.181133  8759.189743  -4.680732  7113.626110  182.658429  6726.123001   \n",
       "2  426.311560 -9541.489388 -56.864961 -7870.552189 -167.826817 -7419.859168   \n",
       "3  232.424999 -4713.053553 -68.601441 -4139.204076  -11.867537 -3953.306124   \n",
       "4   74.645471 -1872.732857  -5.366821 -1397.348735  -75.857540 -1267.155601   \n",
       "\n",
       "           55           56  \n",
       "0  410.619343 -5171.291110  \n",
       "1 -463.827748  5082.746101  \n",
       "2  457.459231 -5635.792278  \n",
       "3  186.031645 -3535.286645  \n",
       "4  101.541071  -558.692593  "
      ]
     },
     "execution_count": 16,
     "metadata": {},
     "output_type": "execute_result"
    }
   ],
   "source": [
    "print(recon_data.shape)\n",
    "recon_data[:8]\n",
    "recon_data.head()"
   ]
  },
  {
   "cell_type": "markdown",
   "metadata": {},
   "source": [
    "Using KNN to seperate the data before and after PCA reconstruction"
   ]
  },
  {
   "cell_type": "code",
   "execution_count": 17,
   "metadata": {},
   "outputs": [],
   "source": [
    "# import seaborn as sns\n",
    "# sns.lmplot(data=pd.DataFrame(X_embedded))"
   ]
  },
  {
   "cell_type": "markdown",
   "metadata": {},
   "source": [
    "KNN with reconstructed data"
   ]
  },
  {
   "cell_type": "code",
   "execution_count": 18,
   "metadata": {
    "code_folding": []
   },
   "outputs": [
    {
     "name": "stdout",
     "output_type": "stream",
     "text": [
      "Number of Neighbors: 5\n",
      "[0.2, 0.29, 0.3, 0.2, 0.24, 0.23, 0.32, 0.19, 0.24, 0.2]\n",
      "Average score: 0.24100000000000002\n",
      "\n",
      "Number of Neighbors: 15\n",
      "[0.23, 0.3, 0.28, 0.27, 0.22, 0.25, 0.28, 0.22, 0.25, 0.28]\n",
      "Average score: 0.258\n",
      "\n",
      "Number of Neighbors: 25\n",
      "[0.21, 0.25, 0.24, 0.25, 0.22, 0.24, 0.27, 0.23, 0.2, 0.26]\n",
      "Average score: 0.23700000000000002\n",
      "\n",
      "Number of Neighbors: 35\n",
      "[0.25, 0.23, 0.24, 0.23, 0.24, 0.21, 0.27, 0.27, 0.19, 0.24]\n",
      "Average score: 0.23700000000000002\n",
      "\n",
      "Number of Neighbors: 45\n",
      "[0.21, 0.22, 0.23, 0.24, 0.29, 0.22, 0.3, 0.22, 0.18, 0.24]\n",
      "Average score: 0.23499999999999996\n",
      "\n",
      "Number of Neighbors: 55\n",
      "[0.24, 0.22, 0.25, 0.2, 0.28, 0.21, 0.29, 0.25, 0.2, 0.18]\n",
      "Average score: 0.23200000000000004\n",
      "\n",
      "Number of Neighbors: 65\n",
      "[0.23, 0.25, 0.25, 0.22, 0.26, 0.2, 0.29, 0.23, 0.19, 0.21]\n",
      "Average score: 0.233\n",
      "\n"
     ]
    },
    {
     "data": {
      "text/plain": [
       "Text(0, 0.5, 'Accuracy')"
      ]
     },
     "execution_count": 18,
     "metadata": {},
     "output_type": "execute_result"
    },
    {
     "data": {
      "image/png": "[encoded data removed]",
      "text/plain": [
       "<Figure size 432x288 with 1 Axes>"
      ]
     },
     "metadata": {
      "needs_background": "light"
     },
     "output_type": "display_data"
    }
   ],
   "source": [
    "# KNN with 5 neighbors\n",
    "# kfold with 10 folds\n",
    "\n",
    "# importing packages\n",
    "from sklearn.neighbors import KNeighborsClassifier\n",
    "from sklearn.model_selection import KFold\n",
    "\n",
    "# initializing data\n",
    "# using all features except length and filename\n",
    "KNN_X = recon_data\n",
    "KNN_y = mydata['label']\n",
    "\n",
    "# hyperparameter values list - number of nearest neighbors to check\n",
    "neighbors = [5, 15, 25, 35, 45, 55, 65]\n",
    "\n",
    "# list to store the average accuracy scores\n",
    "average_scores = []\n",
    "\n",
    "# iterating through hyperparameter values\n",
    "for n in neighbors:\n",
    "    # initialize kfold\n",
    "    kf = KFold(n_splits=10, shuffle=True, random_state=1)\n",
    "\n",
    "    # initialize classifier\n",
    "    knn = KNeighborsClassifier(n_neighbors=n)\n",
    "\n",
    "    # list of scores (accuracy) for each fold\n",
    "    scores = []\n",
    "\n",
    "    # 10 folds\n",
    "    for train_index, test_index in kf.split(KNN_X):\n",
    "        \n",
    "        # initialize independent variables for current fold\n",
    "        KNN_X_train, KNN_X_test = KNN_X.iloc[train_index], KNN_X.iloc[test_index]\n",
    "        \n",
    "        # initialize dependent variables for current fold\n",
    "        KNN_y_train, KNN_y_test = KNN_y.iloc[train_index], KNN_y.iloc[test_index]\n",
    "\n",
    "        # fit the KNN model\n",
    "        knn.fit(KNN_X_train, KNN_y_train)\n",
    "\n",
    "        # return accuracy of KNN model on testing data\n",
    "        scores.append(knn.score(KNN_X_test, KNN_y_test))\n",
    "\n",
    "    # get mean of accuracy values for current number of neighbors\n",
    "    average_score = np.mean(scores)\n",
    "    \n",
    "    # add mean accuracy value to list\n",
    "    average_scores.append(average_score)\n",
    "    \n",
    "    print(f\"Number of Neighbors: {n}\")\n",
    "    print(scores)\n",
    "    print(f\"Average score: {average_score}\")\n",
    "    print()\n",
    "    \n",
    "# plot the results\n",
    "plt.plot(neighbors, average_scores)\n",
    "plt.xlabel(\"K Neighbors\")\n",
    "plt.ylabel(\"Accuracy\")"
   ]
  },
  {
   "cell_type": "markdown",
   "metadata": {},
   "source": [
    "KNN with original data"
   ]
  },
  {
   "cell_type": "code",
   "execution_count": 19,
   "metadata": {
    "code_folding": []
   },
   "outputs": [
    {
     "name": "stdout",
     "output_type": "stream",
     "text": [
      "Number of Neighbors: 5\n",
      "[0.23, 0.33, 0.27, 0.24, 0.26, 0.24, 0.3, 0.24, 0.29, 0.26]\n",
      "Average score: 0.266\n",
      "\n",
      "Number of Neighbors: 15\n",
      "[0.26, 0.27, 0.3, 0.31, 0.29, 0.26, 0.3, 0.23, 0.33, 0.32]\n",
      "Average score: 0.28700000000000003\n",
      "\n",
      "Number of Neighbors: 25\n",
      "[0.25, 0.26, 0.3, 0.29, 0.26, 0.26, 0.33, 0.25, 0.31, 0.3]\n",
      "Average score: 0.281\n",
      "\n",
      "Number of Neighbors: 35\n",
      "[0.25, 0.27, 0.29, 0.31, 0.3, 0.23, 0.29, 0.26, 0.25, 0.3]\n",
      "Average score: 0.275\n",
      "\n",
      "Number of Neighbors: 45\n",
      "[0.25, 0.29, 0.31, 0.27, 0.26, 0.21, 0.36, 0.23, 0.25, 0.27]\n",
      "Average score: 0.27\n",
      "\n",
      "Number of Neighbors: 55\n",
      "[0.26, 0.29, 0.35, 0.24, 0.28, 0.21, 0.33, 0.24, 0.26, 0.24]\n",
      "Average score: 0.27\n",
      "\n",
      "Number of Neighbors: 65\n",
      "[0.26, 0.31, 0.33, 0.25, 0.29, 0.24, 0.28, 0.21, 0.26, 0.25]\n",
      "Average score: 0.26799999999999996\n",
      "\n"
     ]
    },
    {
     "data": {
      "text/plain": [
       "Text(0, 0.5, 'Accuracy')"
      ]
     },
     "execution_count": 19,
     "metadata": {},
     "output_type": "execute_result"
    },
    {
     "data": {
      "image/png": "[encoded data removed]",
      "text/plain": [
       "<Figure size 432x288 with 1 Axes>"
      ]
     },
     "metadata": {
      "needs_background": "light"
     },
     "output_type": "display_data"
    }
   ],
   "source": [
    "# KNN with 5 neighbors\n",
    "# kfold with 10 folds\n",
    "\n",
    "# initializing data\n",
    "# using all features except length and filename\n",
    "KNN_X = mydata.drop([\"length\", 'filename','label'], axis = 1)\n",
    "KNN_y = mydata['label']\n",
    "\n",
    "# hyperparameter values list - number of nearest neighbors to check\n",
    "neighbors = [5, 15, 25, 35, 45, 55, 65]\n",
    "\n",
    "# list to store the average accuracy scores\n",
    "average_scores = []\n",
    "\n",
    "# iterating through hyperparameter values\n",
    "for n in neighbors:\n",
    "    # initialize kfold\n",
    "    kf = KFold(n_splits=10, shuffle=True, random_state=1)\n",
    "\n",
    "    # initialize classifier\n",
    "    knn = KNeighborsClassifier(n_neighbors=n)\n",
    "\n",
    "    # list of scores (accuracy) for each fold\n",
    "    scores = []\n",
    "\n",
    "    # 10 folds\n",
    "    for train_index, test_index in kf.split(KNN_X):\n",
    "        \n",
    "        # initialize independent variables for current fold\n",
    "        KNN_X_train, KNN_X_test = KNN_X.iloc[train_index], KNN_X.iloc[test_index]\n",
    "        \n",
    "        # initialize dependent variables for current fold\n",
    "        KNN_y_train, KNN_y_test = KNN_y.iloc[train_index], KNN_y.iloc[test_index]\n",
    "\n",
    "        # fit the KNN model\n",
    "        knn.fit(KNN_X_train, KNN_y_train)\n",
    "\n",
    "        # return accuracy of KNN model on testing data\n",
    "        scores.append(knn.score(KNN_X_test, KNN_y_test))\n",
    "\n",
    "    # get mean of accuracy values for current number of neighbors\n",
    "    average_score = np.mean(scores)\n",
    "    \n",
    "    # add mean accuracy value to list\n",
    "    average_scores.append(average_score)\n",
    "    \n",
    "    print(f\"Number of Neighbors: {n}\")\n",
    "    print(scores)\n",
    "    print(f\"Average score: {average_score}\")\n",
    "    print()\n",
    "    \n",
    "# plot the results\n",
    "plt.plot(neighbors, average_scores)\n",
    "plt.xlabel(\"K Neighbors\")\n",
    "plt.ylabel(\"Accuracy\")"
   ]
  },
  {
   "cell_type": "markdown",
   "metadata": {},
   "source": [
    "KNN with data reduced to 2 dimentions by t-sne"
   ]
  },
  {
   "cell_type": "code",
   "execution_count": 20,
   "metadata": {
    "scrolled": true
   },
   "outputs": [
    {
     "name": "stdout",
     "output_type": "stream",
     "text": [
      "<class 'numpy.ndarray'> [[  7.2300415  12.171275 ]\n",
      " [-36.881466   78.70259  ]\n",
      " [ 39.268654   27.550747 ]\n",
      " ...\n",
      " [ 32.529743   47.135437 ]\n",
      " [-61.54263    -4.2311444]\n",
      " [-43.887325  -51.220566 ]]\n"
     ]
    },
    {
     "data": {
      "text/plain": [
       "(1000, 2)"
      ]
     },
     "execution_count": 20,
     "metadata": {},
     "output_type": "execute_result"
    }
   ],
   "source": [
    "from sklearn.manifold import TSNE\n",
    "X = mydata.drop([\"length\", 'filename','label'], axis = 1)\n",
    "X_embedded = TSNE(n_components=2, learning_rate='auto',init='random', perplexity=3).fit_transform(X)\n",
    "print(type(X_embedded),X_embedded)\n",
    "X_embedded.shape"
   ]
  },
  {
   "cell_type": "code",
   "execution_count": 21,
   "metadata": {
    "code_folding": [],
    "scrolled": true
   },
   "outputs": [
    {
     "name": "stdout",
     "output_type": "stream",
     "text": [
      "Number of Neighbors: 5\n",
      "[0.25, 0.27, 0.28, 0.29, 0.29, 0.25, 0.31, 0.24, 0.31, 0.22]\n",
      "Average score: 0.271\n",
      "\n",
      "Number of Neighbors: 15\n",
      "[0.24, 0.28, 0.3, 0.23, 0.32, 0.23, 0.28, 0.22, 0.24, 0.26]\n",
      "Average score: 0.25999999999999995\n",
      "\n",
      "Number of Neighbors: 25\n",
      "[0.24, 0.27, 0.24, 0.23, 0.3, 0.25, 0.28, 0.21, 0.28, 0.27]\n",
      "Average score: 0.257\n",
      "\n",
      "Number of Neighbors: 35\n",
      "[0.22, 0.23, 0.29, 0.24, 0.26, 0.21, 0.28, 0.21, 0.29, 0.22]\n",
      "Average score: 0.24500000000000002\n",
      "\n",
      "Number of Neighbors: 45\n",
      "[0.27, 0.25, 0.25, 0.24, 0.28, 0.23, 0.26, 0.19, 0.26, 0.21]\n",
      "Average score: 0.244\n",
      "\n",
      "Number of Neighbors: 55\n",
      "[0.21, 0.2, 0.24, 0.24, 0.22, 0.25, 0.26, 0.17, 0.24, 0.25]\n",
      "Average score: 0.22800000000000004\n",
      "\n",
      "Number of Neighbors: 65\n",
      "[0.24, 0.24, 0.29, 0.26, 0.22, 0.21, 0.25, 0.2, 0.25, 0.25]\n",
      "Average score: 0.24100000000000002\n",
      "\n"
     ]
    },
    {
     "data": {
      "text/plain": [
       "Text(0, 0.5, 'Accuracy')"
      ]
     },
     "execution_count": 21,
     "metadata": {},
     "output_type": "execute_result"
    },
    {
     "data": {
      "image/png": "[encoded data removed]",
      "text/plain": [
       "<Figure size 432x288 with 1 Axes>"
      ]
     },
     "metadata": {
      "needs_background": "light"
     },
     "output_type": "display_data"
    }
   ],
   "source": [
    "# KNN with 5 neighbors\n",
    "# kfold with 10 folds\n",
    "\n",
    "# initializing data\n",
    "# using all features except length and filename\n",
    "KNN_X = pd.DataFrame(X_embedded)\n",
    "KNN_y = mydata['label']\n",
    "\n",
    "# hyperparameter values list - number of nearest neighbors to check\n",
    "neighbors = [5, 15, 25, 35, 45, 55, 65]\n",
    "\n",
    "# list to store the average accuracy scores\n",
    "average_scores = []\n",
    "\n",
    "# iterating through hyperparameter values\n",
    "for n in neighbors:\n",
    "    # initialize kfold\n",
    "    kf = KFold(n_splits=10, shuffle=True, random_state=1)\n",
    "\n",
    "    # initialize classifier\n",
    "    knn = KNeighborsClassifier(n_neighbors=n)\n",
    "\n",
    "    # list of scores (accuracy) for each fold\n",
    "    scores = []\n",
    "\n",
    "    # 10 folds\n",
    "    for train_index, test_index in kf.split(KNN_X):\n",
    "        \n",
    "        # initialize independent variables for current fold\n",
    "        KNN_X_train, KNN_X_test = KNN_X.iloc[train_index], KNN_X.iloc[test_index]\n",
    "        \n",
    "        # initialize dependent variables for current fold\n",
    "        KNN_y_train, KNN_y_test = KNN_y.iloc[train_index], KNN_y.iloc[test_index]\n",
    "\n",
    "        # fit the KNN model\n",
    "        knn.fit(KNN_X_train, KNN_y_train)\n",
    "\n",
    "        # return accuracy of KNN model on testing data\n",
    "        scores.append(knn.score(KNN_X_test, KNN_y_test))\n",
    "\n",
    "    # get mean of accuracy values for current number of neighbors\n",
    "    average_score = np.mean(scores)\n",
    "    \n",
    "    # add mean accuracy value to list\n",
    "    average_scores.append(average_score)\n",
    "    \n",
    "    print(f\"Number of Neighbors: {n}\")\n",
    "    print(scores)\n",
    "    print(f\"Average score: {average_score}\")\n",
    "    print()\n",
    "    \n",
    "# plot the results\n",
    "plt.plot(neighbors, average_scores)\n",
    "plt.xlabel(\"K Neighbors\")\n",
    "plt.ylabel(\"Accuracy\")"
   ]
  },
  {
   "cell_type": "code",
   "execution_count": 22,
   "metadata": {
    "code_folding": [],
    "scrolled": true
   },
   "outputs": [
    {
     "name": "stdout",
     "output_type": "stream",
     "text": [
      "<class 'pandas.core.indexes.numeric.Int64Index'> <class 'pandas.core.frame.DataFrame'>\n",
      "(200,) (1000, 57)\n"
     ]
    }
   ],
   "source": [
    "# repeating the above algorithm, except only comparing classical and pop\n",
    "\n",
    "# get indices of classical or pop songs\n",
    "clas_pop_idx = mydata[mydata['label'].isin(['pop','classical'])].index\n",
    "print(type(clas_pop_idx),type(recon_data))\n",
    "print(clas_pop_idx.shape, recon_data.shape)\n",
    "KNN_X = recon_data.iloc[clas_pop_idx]\n",
    "KNN_Y = mydata.iloc[clas_pop_idx]['label']\n",
    "\n",
    "X = mydata[mydata['label'].isin(['pop','classical'])]\n",
    "X_embedded = TSNE(n_components=2, learning_rate='auto',init='random', perplexity=3).fit_transform(X)\n",
    "X"
   ]
  },
  {
   "cell_type": "code",
   "execution_count": 23,
   "metadata": {
    "code_folding": [],
    "scrolled": true
   },
   "outputs": [
    {
     "name": "stdout",
     "output_type": "stream",
     "text": [
      "Number of Neighbors: 5\n",
      "[1.0, 0.9, 1.0, 0.9, 0.95, 0.95, 1.0, 0.85, 0.95, 1.0]\n",
      "Average score: 0.95\n",
      "\n",
      "Number of Neighbors: 15\n",
      "[1.0, 0.9, 1.0, 0.9, 0.9, 0.95, 1.0, 0.8, 0.9, 1.0]\n",
      "Average score: 0.9349999999999999\n",
      "\n",
      "Number of Neighbors: 25\n",
      "[1.0, 0.9, 1.0, 0.9, 0.9, 0.95, 1.0, 0.85, 0.9, 1.0]\n",
      "Average score: 0.9400000000000001\n",
      "\n",
      "Number of Neighbors: 35\n",
      "[1.0, 0.9, 1.0, 0.9, 0.9, 0.95, 1.0, 0.85, 0.9, 1.0]\n",
      "Average score: 0.9400000000000001\n",
      "\n",
      "Number of Neighbors: 45\n",
      "[1.0, 0.9, 1.0, 0.9, 0.9, 0.95, 1.0, 0.8, 0.95, 1.0]\n",
      "Average score: 0.9400000000000001\n",
      "\n",
      "Number of Neighbors: 55\n",
      "[0.95, 0.9, 1.0, 0.9, 0.9, 0.95, 1.0, 0.8, 0.95, 1.0]\n",
      "Average score: 0.9349999999999999\n",
      "\n",
      "Number of Neighbors: 65\n",
      "[0.95, 0.95, 1.0, 0.9, 0.9, 0.95, 1.0, 0.75, 0.95, 1.0]\n",
      "Average score: 0.9349999999999999\n",
      "\n"
     ]
    },
    {
     "data": {
      "text/plain": [
       "Text(0, 0.5, 'Accuracy')"
      ]
     },
     "execution_count": 23,
     "metadata": {},
     "output_type": "execute_result"
    },
    {
     "data": {
      "image/png": "[encoded data removed]",
      "text/plain": [
       "<Figure size 432x288 with 1 Axes>"
      ]
     },
     "metadata": {
      "needs_background": "light"
     },
     "output_type": "display_data"
    }
   ],
   "source": [
    "# hyperparameter values list - number of nearest neighbors to check\n",
    "neighbors = [5, 15, 25, 35, 45, 55, 65]\n",
    "\n",
    "# list to store the average accuracy scores\n",
    "average_scores = []\n",
    "\n",
    "# iterating through hyperparameter values\n",
    "for n in neighbors:\n",
    "    # initialize kfold\n",
    "    kf = KFold(n_splits=10, shuffle=True, random_state=1)\n",
    "\n",
    "    # initialize classifier\n",
    "    knn = KNeighborsClassifier(n_neighbors=n)\n",
    "\n",
    "    # list of scores (accuracy) for each fold\n",
    "    scores = []\n",
    "\n",
    "    # 10 folds\n",
    "    for train_index, test_index in kf.split(KNN_X):\n",
    "        \n",
    "        # initialize independent variables for current fold\n",
    "        KNN_X_train, KNN_X_test = KNN_X.iloc[train_index], KNN_X.iloc[test_index]\n",
    "        \n",
    "        # initialize dependent variables for current fold\n",
    "        KNN_y_train, KNN_y_test = KNN_y.iloc[train_index], KNN_y.iloc[test_index]\n",
    "\n",
    "        # fit the KNN model\n",
    "        knn.fit(KNN_X_train, KNN_y_train)\n",
    "\n",
    "        # return accuracy of KNN model on testing data\n",
    "        scores.append(knn.score(KNN_X_test, KNN_y_test))\n",
    "\n",
    "    # get mean of accuracy values for current number of neighbors\n",
    "    average_score = np.mean(scores)\n",
    "    \n",
    "    # add mean accuracy value to list\n",
    "    average_scores.append(average_score)\n",
    "    \n",
    "    print(f\"Number of Neighbors: {n}\")\n",
    "    print(scores)\n",
    "    print(f\"Average score: {average_score}\")\n",
    "    print()\n",
    "\n",
    "# plot the results\n",
    "plt.plot(neighbors, average_scores)\n",
    "plt.xlabel(\"K Neighbors\")\n",
    "plt.ylabel(\"Accuracy\")"
   ]
  },
  {
   "cell_type": "code",
   "execution_count": 24,
   "metadata": {},
   "outputs": [
    {
     "data": {
      "image/png": "[encoded data removed]",
      "text/plain": [
       "<Figure size 360x360 with 1 Axes>"
      ]
     },
     "metadata": {
      "needs_background": "light"
     },
     "output_type": "display_data"
    }
   ],
   "source": [
    "from matplotlib import pyplot as plt\n",
    "\n",
    "# Set the figure size\n",
    "plt.rcParams[\"figure.figsize\"] = [5,5]\n",
    "plt.rcParams[\"figure.autolayout\"] = True\n",
    "\n",
    "data = X_embedded\n",
    "\n",
    "# Scatter plot\n",
    "plt.scatter(data[:, 0], data[:, 1], cmap='hot')\n",
    "\n",
    "# Display the plot\n",
    "plt.show()"
   ]
  },
  {
   "cell_type": "code",
   "execution_count": null,
   "metadata": {},
   "outputs": [],
   "source": []
  },
  {
   "cell_type": "code",
   "execution_count": 25,
   "metadata": {
    "code_folding": [],
    "scrolled": true
   },
   "outputs": [
    {
     "name": "stdout",
     "output_type": "stream",
     "text": [
      "(100, 2) <class 'pandas.core.frame.DataFrame'>\n"
     ]
    }
   ],
   "source": [
    "# repeating the above plotting, except only comparing classical and pop\n",
    "\n",
    "# get indices of classical or pop songs\n",
    "clas_pop_idx = mydata[mydata['label'].isin(['hiphop'])].index\n",
    "KNN_X = pd.DataFrame(X_embedded).iloc[clas_pop_idx]\n",
    "KNN_Y = mydata.iloc[clas_pop_idx]['label']\n",
    "print(KNN_X.shape,type(KNN_X))"
   ]
  },
  {
   "cell_type": "code",
   "execution_count": 26,
   "metadata": {},
   "outputs": [
    {
     "name": "stdout",
     "output_type": "stream",
     "text": [
      "<class 'numpy.ndarray'>\n"
     ]
    },
    {
     "data": {
      "image/png": "[encoded data removed]",
      "text/plain": [
       "<Figure size 360x360 with 1 Axes>"
      ]
     },
     "metadata": {
      "needs_background": "light"
     },
     "output_type": "display_data"
    }
   ],
   "source": [
    "# Set the figure size\n",
    "plt.rcParams[\"figure.figsize\"] = [5,5]\n",
    "plt.rcParams[\"figure.autolayout\"] = True\n",
    "\n",
    "data = KNN_X.to_numpy()\n",
    "print(type(data))\n",
    "\n",
    "# Scatter plot\n",
    "plt.scatter(data[:, 0], data[:, 1], cmap='hot')\n",
    "\n",
    "# Display the plot\n",
    "plt.show()"
   ]
  },
  {
   "cell_type": "code",
   "execution_count": 30,
   "metadata": {},
   "outputs": [
    {
     "name": "stdout",
     "output_type": "stream",
     "text": [
      "Number of Neighbors: 5\n",
      "[1.0, 0.95, 1.0, 0.9, 0.95, 0.95, 1.0, 0.8, 0.95, 0.95]\n",
      "Average score: 0.945\n",
      "\n",
      "Number of Neighbors: 15\n",
      "[1.0, 0.9, 1.0, 0.9, 0.9, 0.95, 1.0, 0.8, 0.95, 1.0]\n",
      "Average score: 0.9400000000000001\n",
      "\n",
      "Number of Neighbors: 25\n",
      "[1.0, 0.95, 1.0, 0.9, 0.9, 0.95, 1.0, 0.8, 0.95, 1.0]\n",
      "Average score: 0.945\n",
      "\n",
      "Number of Neighbors: 35\n",
      "[1.0, 0.9, 1.0, 0.9, 0.9, 0.95, 1.0, 0.8, 0.95, 1.0]\n",
      "Average score: 0.9400000000000001\n",
      "\n",
      "Number of Neighbors: 45\n",
      "[1.0, 0.9, 1.0, 0.9, 0.9, 0.95, 1.0, 0.8, 0.95, 1.0]\n",
      "Average score: 0.9400000000000001\n",
      "\n",
      "Number of Neighbors: 55\n",
      "[1.0, 0.95, 1.0, 0.9, 0.95, 0.95, 1.0, 0.75, 0.95, 1.0]\n",
      "Average score: 0.945\n",
      "\n",
      "Number of Neighbors: 65\n",
      "[0.95, 0.95, 1.0, 0.9, 0.95, 0.95, 1.0, 0.75, 0.95, 1.0]\n",
      "Average score: 0.9399999999999998\n",
      "\n"
     ]
    },
    {
     "data": {
      "text/plain": [
       "Text(0, 0.5, 'Accuracy')"
      ]
     },
     "execution_count": 30,
     "metadata": {},
     "output_type": "execute_result"
    },
    {
     "data": {
      "image/png": "[encoded data removed]",
      "text/plain": [
       "<Figure size 360x360 with 1 Axes>"
      ]
     },
     "metadata": {
      "needs_background": "light"
     },
     "output_type": "display_data"
    }
   ],
   "source": [
    "# KNN with original data - pop v classical\n",
    "KNN_X = mydata.drop(labels=['filename','length','label'], axis=1)[mydata['label'].isin(['pop','classical'])]\n",
    "KNN_y = mydata['label']\n",
    "\n",
    "# hyperparameter values list - number of nearest neighbors to check\n",
    "neighbors = [5, 15, 25, 35, 45, 55, 65]\n",
    "\n",
    "# list to store the average accuracy scores\n",
    "average_scores = []\n",
    "\n",
    "# iterating through hyperparameter values\n",
    "for n in neighbors:\n",
    "    # initialize kfold\n",
    "    kf = KFold(n_splits=10, shuffle=True, random_state=1)\n",
    "\n",
    "    # initialize classifier\n",
    "    knn = KNeighborsClassifier(n_neighbors=n)\n",
    "\n",
    "    # list of scores (accuracy) for each fold\n",
    "    scores = []\n",
    "\n",
    "    # 10 folds\n",
    "    for train_index, test_index in kf.split(KNN_X):\n",
    "        \n",
    "        # initialize independent variables for current fold\n",
    "        KNN_X_train, KNN_X_test = KNN_X.iloc[train_index], KNN_X.iloc[test_index]\n",
    "        \n",
    "        # initialize dependent variables for current fold\n",
    "        KNN_y_train, KNN_y_test = KNN_y.iloc[train_index], KNN_y.iloc[test_index]\n",
    "\n",
    "        # fit the KNN model\n",
    "        knn.fit(KNN_X_train, KNN_y_train)\n",
    "\n",
    "        # return accuracy of KNN model on testing data\n",
    "        scores.append(knn.score(KNN_X_test, KNN_y_test))\n",
    "\n",
    "    # get mean of accuracy values for current number of neighbors\n",
    "    average_score = np.mean(scores)\n",
    "    \n",
    "    # add mean accuracy value to list\n",
    "    average_scores.append(average_score)\n",
    "    \n",
    "    print(f\"Number of Neighbors: {n}\")\n",
    "    print(scores)\n",
    "    print(f\"Average score: {average_score}\")\n",
    "    print()\n",
    "    \n",
    "# plot the results\n",
    "plt.plot(neighbors, average_scores)\n",
    "plt.xlabel(\"K Neighbors\")\n",
    "plt.ylabel(\"Accuracy\")"
   ]
  },
  {
   "cell_type": "code",
   "execution_count": 31,
   "metadata": {},
   "outputs": [
    {
     "name": "stdout",
     "output_type": "stream",
     "text": [
      "Number of Neighbors: 5\n",
      "[0.9, 0.65, 0.8, 0.95, 0.95, 0.6, 0.65, 0.9, 0.75, 0.9]\n",
      "Average score: 0.8049999999999999\n",
      "\n",
      "Number of Neighbors: 15\n",
      "[0.85, 0.6, 0.8, 0.9, 0.95, 0.7, 0.75, 0.9, 0.75, 0.75]\n",
      "Average score: 0.795\n",
      "\n",
      "Number of Neighbors: 25\n",
      "[0.85, 0.7, 0.8, 0.85, 0.9, 0.7, 0.65, 0.85, 0.7, 0.75]\n",
      "Average score: 0.775\n",
      "\n",
      "Number of Neighbors: 35\n",
      "[0.9, 0.7, 0.8, 0.85, 0.95, 0.6, 0.65, 0.85, 0.7, 0.8]\n",
      "Average score: 0.78\n",
      "\n",
      "Number of Neighbors: 45\n",
      "[0.9, 0.8, 0.85, 0.85, 0.85, 0.6, 0.65, 0.85, 0.7, 0.8]\n",
      "Average score: 0.785\n",
      "\n",
      "Number of Neighbors: 55\n",
      "[0.9, 0.8, 0.85, 0.9, 0.85, 0.6, 0.7, 0.85, 0.7, 0.8]\n",
      "Average score: 0.795\n",
      "\n",
      "Number of Neighbors: 65\n",
      "[0.9, 0.8, 0.85, 0.9, 0.85, 0.6, 0.65, 0.85, 0.7, 0.8]\n",
      "Average score: 0.79\n",
      "\n"
     ]
    },
    {
     "data": {
      "text/plain": [
       "Text(0, 0.5, 'Accuracy')"
      ]
     },
     "execution_count": 31,
     "metadata": {},
     "output_type": "execute_result"
    },
    {
     "data": {
      "image/png": "[encoded data removed]",
      "text/plain": [
       "<Figure size 360x360 with 1 Axes>"
      ]
     },
     "metadata": {
      "needs_background": "light"
     },
     "output_type": "display_data"
    }
   ],
   "source": [
    "# KNN with original data - metal v disco\n",
    "KNN_X = mydata.drop(labels=['filename','length','label'],axis=1)[mydata['label'].isin(['metal','disco'])]\n",
    "KNN_y = mydata['label']\n",
    "\n",
    "# hyperparameter values list - number of nearest neighbors to check\n",
    "neighbors = [5, 15, 25, 35, 45, 55, 65]\n",
    "\n",
    "# list to store the average accuracy scores\n",
    "average_scores = []\n",
    "\n",
    "# iterating through hyperparameter values\n",
    "for n in neighbors:\n",
    "    # initialize kfold\n",
    "    kf = KFold(n_splits=10, shuffle=True, random_state=1)\n",
    "\n",
    "    # initialize classifier\n",
    "    knn = KNeighborsClassifier(n_neighbors=n)\n",
    "\n",
    "    # list of scores (accuracy) for each fold\n",
    "    scores = []\n",
    "\n",
    "    # 10 folds\n",
    "    for train_index, test_index in kf.split(KNN_X):\n",
    "        \n",
    "        # initialize independent variables for current fold\n",
    "        KNN_X_train, KNN_X_test = KNN_X.iloc[train_index], KNN_X.iloc[test_index]\n",
    "        \n",
    "        # initialize dependent variables for current fold\n",
    "        KNN_y_train, KNN_y_test = KNN_y.iloc[train_index], KNN_y.iloc[test_index]\n",
    "\n",
    "        # fit the KNN model\n",
    "        knn.fit(KNN_X_train, KNN_y_train)\n",
    "\n",
    "        # return accuracy of KNN model on testing data\n",
    "        scores.append(knn.score(KNN_X_test, KNN_y_test))\n",
    "\n",
    "    # get mean of accuracy values for current number of neighbors\n",
    "    average_score = np.mean(scores)\n",
    "    \n",
    "    # add mean accuracy value to list\n",
    "    average_scores.append(average_score)\n",
    "    \n",
    "    print(f\"Number of Neighbors: {n}\")\n",
    "    print(scores)\n",
    "    print(f\"Average score: {average_score}\")\n",
    "    print()\n",
    "    \n",
    "# plot the results\n",
    "plt.plot(neighbors, average_scores)\n",
    "plt.xlabel(\"K Neighbors\")\n",
    "plt.ylabel(\"Accuracy\")"
   ]
  },
  {
   "cell_type": "code",
   "execution_count": null,
   "metadata": {},
   "outputs": [],
   "source": []
  }
 ],
 "metadata": {
  "kernelspec": {
   "display_name": "Python 3 (ipykernel)",
   "language": "python",
   "name": "python3"
  },
  "language_info": {
   "codemirror_mode": {
    "name": "ipython",
    "version": 3
   },
   "file_extension": ".py",
   "mimetype": "text/x-python",
   "name": "python",
   "nbconvert_exporter": "python",
   "pygments_lexer": "ipython3",
   "version": "3.9.7"
  }
 },
 "nbformat": 4,
 "nbformat_minor": 2
}
